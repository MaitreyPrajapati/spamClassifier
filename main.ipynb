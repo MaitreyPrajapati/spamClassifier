{
 "cells": [
  {
   "cell_type": "code",
   "execution_count": 61,
   "metadata": {},
   "outputs": [],
   "source": [
    "import tensorflow as tf\n",
    "import tensorflow.keras as keras\n",
    "import numpy as np\n",
    "\n",
    "import pandas as pd\n",
    "from sklearn.model_selection import train_test_split"
   ]
  },
  {
   "cell_type": "markdown",
   "metadata": {},
   "source": [
    "## Importing, Splitting and creating TF Datasets"
   ]
  },
  {
   "cell_type": "code",
   "execution_count": 28,
   "metadata": {},
   "outputs": [],
   "source": [
    "dataPath = 'Data/data.csv'\n",
    "\n",
    "all_data = pd.read_csv(dataPath)\n",
    "all_data['Category'] = pd.get_dummies(all_data['Category'])\n"
   ]
  },
  {
   "cell_type": "code",
   "execution_count": 37,
   "metadata": {},
   "outputs": [],
   "source": [
    "X_train, X_test, Y_train, Y_test = train_test_split(all_data['Message'], all_data['Category'], test_size=0.1)"
   ]
  },
  {
   "cell_type": "code",
   "execution_count": 52,
   "metadata": {},
   "outputs": [],
   "source": [
    "train_dataset = tf.data.Dataset.from_tensor_slices((X_train.values, Y_train.values))\n",
    "test_dataset = tf.data.Dataset.from_tensor_slices((X_test.values, Y_test.values))"
   ]
  },
  {
   "cell_type": "markdown",
   "metadata": {},
   "source": [
    "### Loading embeddings"
   ]
  },
  {
   "cell_type": "code",
   "execution_count": 81,
   "metadata": {},
   "outputs": [],
   "source": [
    "import io\n",
    "\n",
    "VOCAB_SIZE = 400001\n",
    "DIMENSION = 50\n",
    "\n",
    "emb_dict = {}\n",
    "word_to_index = {}\n",
    "embedding_array = np.zeros((VOCAB_SIZE, DIMENSION), dtype='float32')\n",
    "\n",
    "file_path = 'Embeddings/glove.6B/'\n",
    "file_name = 'glove.6B.50d.txt'\n",
    "file = io.open(file_path + file_name, 'r', encoding='utf-8', newline='\\n', errors='ignore')\n",
    "\n",
    "\n",
    "index = 0\n",
    "\n",
    "for line in file:\n",
    "    word, vector = line.split(' ', 1)\n",
    "    vector = list(map(float, vector.split(' ')))\n",
    "    \n",
    "    word_to_index[word] = index\n",
    "    embedding_array[index, :] = vector\n",
    "    \n",
    "    index+=1\n"
   ]
  },
  {
   "cell_type": "code",
   "execution_count": null,
   "metadata": {},
   "outputs": [],
   "source": []
  },
  {
   "cell_type": "markdown",
   "metadata": {},
   "source": [
    "## Model"
   ]
  },
  {
   "cell_type": "code",
   "execution_count": 62,
   "metadata": {},
   "outputs": [],
   "source": [
    "class NN_Model(keras.Model):\n",
    "    def __init__(self):\n",
    "        super(NN_Model, self).__init__()\n",
    "        \n",
    "        "
   ]
  },
  {
   "cell_type": "code",
   "execution_count": null,
   "metadata": {},
   "outputs": [],
   "source": []
  },
  {
   "cell_type": "code",
   "execution_count": null,
   "metadata": {},
   "outputs": [],
   "source": []
  },
  {
   "cell_type": "code",
   "execution_count": null,
   "metadata": {},
   "outputs": [],
   "source": []
  },
  {
   "cell_type": "code",
   "execution_count": null,
   "metadata": {},
   "outputs": [],
   "source": []
  },
  {
   "cell_type": "code",
   "execution_count": null,
   "metadata": {},
   "outputs": [],
   "source": []
  },
  {
   "cell_type": "code",
   "execution_count": null,
   "metadata": {},
   "outputs": [],
   "source": []
  }
 ],
 "metadata": {
  "kernelspec": {
   "display_name": "Python 3",
   "language": "python",
   "name": "python3"
  },
  "language_info": {
   "codemirror_mode": {
    "name": "ipython",
    "version": 3
   },
   "file_extension": ".py",
   "mimetype": "text/x-python",
   "name": "python",
   "nbconvert_exporter": "python",
   "pygments_lexer": "ipython3",
   "version": "3.7.6"
  }
 },
 "nbformat": 4,
 "nbformat_minor": 4
}
